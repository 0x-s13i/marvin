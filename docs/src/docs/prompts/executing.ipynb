{
 "cells": [
  {
   "attachments": {},
   "cell_type": "markdown",
   "metadata": {},
   "source": [
    "# Executing Prompts\n",
    "\n",
    "Marvin makes executing one-off `task` or `chain` patterns dead simple. "
   ]
  },
  {
   "attachments": {},
   "cell_type": "markdown",
   "metadata": {},
   "source": [
    "### Running a `task`\n",
    "\n",
    "Once you have a prompt defined, fire it off with your chosen LLM asyncronously like so:"
   ]
  },
  {
   "cell_type": "code",
   "execution_count": 2,
   "metadata": {
    "tags": []
   },
   "outputs": [
    {
     "name": "stdout",
     "output_type": "stream",
     "text": [
      "Yes, you are correct! In traditional Euclidean geometry, the angles of a triangle always add up to 180 degrees. However, there are indeed other types of geometries where this is not the case. One such example is non-Euclidean geometry, which includes hyperbolic and elliptic geometries. In hyperbolic geometry, the angles of a triangle add up to less than 180 degrees, while in elliptic geometry, the angles add up to more than 180 degrees. These non-Euclidean geometries have their own unique properties and are studied in mathematics and physics.\n"
     ]
    }
   ],
   "source": [
    "from marvin.prompts.library import System, User, ChainOfThought\n",
    "from marvin.llms.providers import chat_llm\n",
    "from typing import Optional\n",
    "\n",
    "\n",
    "class ExpertSystem(System):\n",
    "    content: str = (\n",
    "        \"You are a world-class expert on {{topic}}. \"\n",
    "        \"When asked questions about {{topic}}, you answer correctly. \"\n",
    "        \"You only answer questions about {{topic}}. \"\n",
    "    )\n",
    "    topic: Optional[str]\n",
    "\n",
    "\n",
    "class Tutor(System):\n",
    "    content: str = (\n",
    "        \"When you give an answer, you modulate your response based on the \"\n",
    "        \"inferred knowledge of the user. \"\n",
    "        \"Your student's name is {{name}}. \"\n",
    "    )\n",
    "    name: str = \"not provided\"\n",
    "\n",
    "\n",
    "model = chat_llm()\n",
    "\n",
    "response = await model(\n",
    "    (\n",
    "        ExpertSystem()\n",
    "        | Tutor()\n",
    "        | User(\n",
    "            \"I heard that there are types of geometries when the angles don't add up to\"\n",
    "            \" 180?\"\n",
    "        )\n",
    "        | ChainOfThought()\n",
    "    ).render(topic=\"geometry\", name=\"Adam\")\n",
    ")\n",
    "\n",
    "print(response.content)"
   ]
  }
 ],
 "metadata": {
  "kernelspec": {
   "display_name": "Python 3 (ipykernel)",
   "language": "python",
   "name": "python3"
  },
  "language_info": {
   "codemirror_mode": {
    "name": "ipython",
    "version": 3
   },
   "file_extension": ".py",
   "mimetype": "text/x-python",
   "name": "python",
   "nbconvert_exporter": "python",
   "pygments_lexer": "ipython3",
   "version": "3.11.0"
  },
  "orig_nbformat": 4
 },
 "nbformat": 4,
 "nbformat_minor": 2
}
