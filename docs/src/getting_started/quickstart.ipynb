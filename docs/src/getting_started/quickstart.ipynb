{
 "cells": [
  {
   "attachments": {},
   "cell_type": "markdown",
   "metadata": {},
   "source": [
    "# Quickstart\n",
    "\n",
    "After [installing Marvin](/src/getting_started/installation.md), the fastest way to get started is by using one of Marvin's high-level [AI components](/src/reference/components/overview.md). These components are designed to integrate AI into abstractions you already know well, creating the best possible opt-in developer experience."
   ]
  },
  {
   "attachments": {},
   "cell_type": "markdown",
   "metadata": {},
   "source": [
    "## AI Models\n",
    "\n",
    "Marvin's most basic component is the AI Model, a drop-in replacement for Pydantic's `BaseModel`. AI Models can be instantiated from any string, making them ideal for entity extraction and converting unstructured text to a typed schema:\n"
   ]
  },
  {
   "cell_type": "code",
   "execution_count": 2,
   "metadata": {},
   "outputs": [
    {
     "data": {
      "text/plain": [
       "Location(city='New York', state='NY')"
      ]
     },
     "execution_count": 2,
     "metadata": {},
     "output_type": "execute_result"
    }
   ],
   "source": [
    "from marvin import ai_model\n",
    "from pydantic import BaseModel, Field\n",
    "\n",
    "\n",
    "@ai_model\n",
    "class Location(BaseModel):\n",
    "    city: str\n",
    "    state: str = Field(..., description=\"The two-letter state abbreviation\")\n",
    "\n",
    "\n",
    "Location(\"The Big Apple\")"
   ]
  },
  {
   "attachments": {},
   "cell_type": "markdown",
   "metadata": {},
   "source": [
    "## AI Functions\n",
    "\n",
    "AI Functions look like regular functions, but have no source code. Instead, an AI uses their description and inputs to generate their outputs, making them ideal for NLP applications like sentiment analysis. "
   ]
  },
  {
   "cell_type": "code",
   "execution_count": 9,
   "metadata": {},
   "outputs": [
    {
     "name": "stdout",
     "output_type": "stream",
     "text": [
      "Text 1: 0.8\n",
      "Text 2: -0.2\n"
     ]
    }
   ],
   "source": [
    "from marvin import ai_fn\n",
    "\n",
    "\n",
    "@ai_fn\n",
    "def sentiment(text: str) -> float:\n",
    "    \"\"\"\n",
    "    Given `text`, returns a number between 1 (positive) and -1 (negative)\n",
    "    indicating its sentiment score.\n",
    "    \"\"\"\n",
    "\n",
    "\n",
    "print(\"Text 1:\", sentiment(\"I love working with Marvin!\"))\n",
    "print(\"Text 2:\", sentiment(\"These examples could use some work...\"))"
   ]
  },
  {
   "attachments": {},
   "cell_type": "markdown",
   "metadata": {},
   "source": [
    "Because AI functions are just like regular functions, you can quickly modify them for your needs. Here, we modify the above example to work with multiple strings at once:"
   ]
  },
  {
   "cell_type": "code",
   "execution_count": 10,
   "metadata": {},
   "outputs": [
    {
     "data": {
      "text/plain": [
       "[0.8, -0.7]"
      ]
     },
     "execution_count": 10,
     "metadata": {},
     "output_type": "execute_result"
    }
   ],
   "source": [
    "from marvin import ai_fn\n",
    "\n",
    "\n",
    "@ai_fn\n",
    "def sentiment_list(texts: list[str]) -> list[float]:\n",
    "    \"\"\"\n",
    "    Given a list of `texts`, returns a list of numbers between 1 (positive) and\n",
    "    -1 (negative) indicating their respective sentiment scores.\n",
    "    \"\"\"\n",
    "\n",
    "\n",
    "sentiment_list([\"That was surprisingly easy!\", \"Oh no, not again.\"])"
   ]
  },
  {
   "cell_type": "code",
   "execution_count": null,
   "metadata": {},
   "outputs": [],
   "source": []
  }
 ],
 "metadata": {
  "kernelspec": {
   "display_name": "marvin",
   "language": "python",
   "name": "python3"
  },
  "language_info": {
   "codemirror_mode": {
    "name": "ipython",
    "version": 3
   },
   "file_extension": ".py",
   "mimetype": "text/x-python",
   "name": "python",
   "nbconvert_exporter": "python",
   "pygments_lexer": "ipython3",
   "version": "3.10.9"
  },
  "orig_nbformat": 4
 },
 "nbformat": 4,
 "nbformat_minor": 2
}
