{
 "cells": [
  {
   "cell_type": "markdown",
   "metadata": {},
   "source": [
    "# AI Application\n",
    "\n",
    "AI Application is a high-level component, or *building block* of Marvin. This component is completely standalone: you're free to use it with or without the rest of Marvin."
   ]
  },
  {
   "cell_type": "markdown",
   "metadata": {},
   "source": [
    "What it does\n",
    "\n",
    "An autonomous and conversational interface to a stateful AI-powered application."
   ]
  },
  {
   "cell_type": "markdown",
   "metadata": {},
   "source": [
    "When to use\n",
    "\n",
    "Use an AI Application as the foundation of an autonomous agent (or system of agents) to complete arbitrary tasks.\n",
    "- a ToDo app, as a simple example\n",
    "- a slackbot that can do anything ([example](/src/guides/slackbot/))\n",
    "- a router app that delegates work to other apps based on inputs (like [JARVIS](https://github.com/microsoft/JARVIS))"
   ]
  },
  {
   "cell_type": "code",
   "execution_count": null,
   "metadata": {},
   "outputs": [],
   "source": [
    "from datetime import datetime\n",
    "from pydantic import BaseModel, Field\n",
    "from marvin import AIApplication\n",
    "\n",
    "\n",
    "class ToDo(BaseModel):\n",
    "    title: str\n",
    "    description: str = None\n",
    "    due_date: datetime = None\n",
    "    done: bool = False\n",
    "\n",
    "\n",
    "class ToDoState(BaseModel):\n",
    "    todos: list[ToDo] = []\n",
    "\n",
    "\n",
    "class ToDoApp(AIApplication):\n",
    "    state: ToDoState = Field(default_factory=ToDoState)\n",
    "    description: str = \"\"\"\n",
    "        A simple to-do tracker. Users will give instructions to add, remove, and\n",
    "        update their to-dos.\n",
    "        \"\"\"\n",
    "    plan_enabled: bool = False"
   ]
  },
  {
   "cell_type": "markdown",
   "metadata": {},
   "source": [
    "## Features\n",
    "\n",
    "#### 🔨 Easy to Extend\n",
    "AI Applications accept a `list[Tool]`, where an arbitrary python function can be interpreted as a tool - so you can bring your own tools.\n",
    "\n",
    "#### 🤖 Stateful\n",
    "AI applications can consult and maintain their own application state, which they update as they receive inputs from the world and perform actions.\n",
    "\n",
    "#### 📝 Task Planning\n",
    "AI Applications can also maintain an internal `AppPlan`, a `list[Task]` that represent the status of the application's current plan. Like the application's state, the plan is updated as the application instance evolves."
   ]
  }
 ],
 "metadata": {
  "kernelspec": {
   "display_name": "Python 3",
   "language": "python",
   "name": "python3"
  },
  "language_info": {
   "name": "python",
   "version": "3.9.16"
  },
  "orig_nbformat": 4
 },
 "nbformat": 4,
 "nbformat_minor": 2
}
