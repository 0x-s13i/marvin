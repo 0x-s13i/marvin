{
 "cells": [
  {
   "attachments": {},
   "cell_type": "markdown",
   "metadata": {},
   "source": [
    "# AI Choice\n",
    "\n",
    "AI Choice is a high-level component, or *building block* of Marvin. This component is completely standalone: you're free to use it with or without the rest of Marvin."
   ]
  },
  {
   "attachments": {},
   "cell_type": "markdown",
   "metadata": {},
   "source": [
    "<div class=\"admonition abstract\">\n",
    "  <p class=\"admonition-title\">What it does</p>\n",
    "  <p>\n",
    "    A decorator that lets you use Large Language Models to choose options, tools, or classify input. \n",
    "  </p>\n",
    "</div>"
   ]
  },
  {
   "cell_type": "code",
   "execution_count": null,
   "metadata": {},
   "outputs": [],
   "source": [
    "from marvin import ai_choice\n",
    "from enum import Enum\n",
    "\n",
    "\n",
    "@ai_choice\n",
    "class CustomerIntent(Enum):\n",
    "    \"\"\"Classifies the incoming users intent\"\"\"\n",
    "\n",
    "    SALES = 1\n",
    "    TECHNICAL_SUPPORT = 2\n",
    "    BILLING_ACCOUNTS = 3\n",
    "    PRODUCT_INFORMATION = 4\n",
    "    RETURNS_REFUNDS = 5\n",
    "    ORDER_STATUS = 6\n",
    "    ACCOUNT_CANCELLATION = 7\n",
    "    OPERATOR_CUSTOMER_SERVICE = 0\n",
    "\n",
    "\n",
    "CustomerIntent(\"I got double charged, can you help me out?\")\n",
    "# returns CustomerIntent.BILLING_ACCOUNTS"
   ]
  },
  {
   "attachments": {},
   "cell_type": "markdown",
   "metadata": {},
   "source": [
    "<div class=\"admonition info\">\n",
    "  <p class=\"admonition-title\">How it works</p>\n",
    "  <p>\n",
    "    Marvin enumerates your options, and use logit_bias to force an LLM to deductively choose the index of the best option given your provided input. It then returns the choice associated to that index. \n",
    "  </p>\n",
    "</div>"
   ]
  },
  {
   "attachments": {},
   "cell_type": "markdown",
   "metadata": {},
   "source": [
    "<div class=\"admonition tip\">\n",
    "  <p class=\"admonition-title\">When to use</p>\n",
    "  <p>\n",
    "    <ol>\n",
    "    <li> Best for classification tasks when no training data is available. \n",
    "    <li> Best for writing classifiers that need deduction or inference.\n",
    "    </ol>\n",
    "  </p>\n",
    "</div>"
   ]
  },
  {
   "attachments": {},
   "cell_type": "markdown",
   "metadata": {},
   "source": [
    "## Features\n",
    "#### 🚅 Bulletproof\n",
    "\n",
    "`ai_choice` is bulletproof. That means it will always output one of the options you've given it."
   ]
  },
  {
   "cell_type": "code",
   "execution_count": null,
   "metadata": {},
   "outputs": [],
   "source": [
    "from marvin import ai_choice\n",
    "from enum import Enum\n",
    "\n",
    "\n",
    "@ai_choice\n",
    "class AppRoute(Enum):\n",
    "    \"\"\"Represents distinct routes command bar for a different application\"\"\"\n",
    "\n",
    "    USER_PROFILE = \"/user-profile\"\n",
    "    SEARCH = \"/search\"\n",
    "    NOTIFICATIONS = \"/notifications\"\n",
    "    SETTINGS = \"/settings\"\n",
    "    HELP = \"/help\"\n",
    "    CHAT = \"/chat\"\n",
    "    DOCS = \"/docs\"\n",
    "    PROJECTS = \"/projects\"\n",
    "    WORKSPACES = \"/workspaces\"\n",
    "\n",
    "\n",
    "AppRoute(\"update my name\")\n",
    "# returns AppRoute.USER_PROFILE"
   ]
  },
  {
   "attachments": {},
   "cell_type": "markdown",
   "metadata": {},
   "source": [
    "#### 🏃 Fast\n",
    "\n",
    "`ai_choice` only asks your LLM to output one token, so it's blazing fast. On the order of ~200ms in testing.\n",
    "\n",
    "#### 🫡 Deterministic\n",
    "\n",
    "`ai_choice` will be deterministic so long as the underlying model and options does not change."
   ]
  }
 ],
 "metadata": {
  "kernelspec": {
   "display_name": "Python 3 (ipykernel)",
   "language": "python",
   "name": "python3"
  },
  "language_info": {
   "codemirror_mode": {
    "name": "ipython",
    "version": 3
   },
   "file_extension": ".py",
   "mimetype": "text/x-python",
   "name": "python",
   "nbconvert_exporter": "python",
   "pygments_lexer": "ipython3",
   "version": "3.11.3"
  },
  "orig_nbformat": 4
 },
 "nbformat": 4,
 "nbformat_minor": 2
}
