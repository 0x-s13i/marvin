{
 "cells": [
  {
   "attachments": {},
   "cell_type": "markdown",
   "metadata": {},
   "source": [
    "# Functions\n",
    "\n",
    "OpenAI's ChatCompletion API enables you to pass a list of `functions` for it to optionally call in service of a query. If it chooses to execute a function, either by choice or instruction, it will the function's name along with its formatted parameters for *you* to evaluate. The OpenAI schema accepts a JSON Schema representation of your functions.\n",
    "\n",
    "Marvin includes first-class utilities for working with OpenAI's function API. These utilities are completely standalone: you're free to use them with or without Marvin's other components or framework. "
   ]
  },
  {
   "cell_type": "code",
   "execution_count": null,
   "metadata": {},
   "outputs": [],
   "source": [
    "from marvin.openai import openai_fn\n",
    "\n",
    "@openai_fn\n",
    "def add(x: int, y:int) -> str:\n",
    "    return x + y"
   ]
  },
  {
   "attachments": {},
   "cell_type": "markdown",
   "metadata": {},
   "source": [
    "### Serialization\n",
    "\n",
    "*Marvin* allows auto creation of JSON Schemas from functions:"
   ]
  },
  {
   "cell_type": "code",
   "execution_count": null,
   "metadata": {},
   "outputs": [],
   "source": [
    "from marvin.openai import openai_fn\n",
    "\n",
    "@openai_fn\n",
    "def add(x: int, y:int) -> str:\n",
    "    '''Adds two numbers together'''\n",
    "    return x + y\n",
    "\n",
    "add.schema"
   ]
  },
  {
   "attachments": {},
   "cell_type": "markdown",
   "metadata": {},
   "source": [
    "Returns its JSON Schema to use with OpenAI's function API."
   ]
  },
  {
   "cell_type": "code",
   "execution_count": null,
   "metadata": {},
   "outputs": [],
   "source": [
    "{\n",
    "    \"name\": \"add\",\n",
    "    \"description\": \"Adds two numbers together\",\n",
    "    \"parameters\": {\n",
    "        \"x\": {\n",
    "            \"type\": \"int\",\n",
    "            \"description\": null\n",
    "        },\n",
    "        \"y\": {\n",
    "            \"type\": \"int\",\n",
    "            \"description\": null\n",
    "        },\n",
    "        \"required\": [\"x\", \"y\"],\n",
    "    }\n",
    "}"
   ]
  },
  {
   "attachments": {},
   "cell_type": "markdown",
   "metadata": {},
   "source": [
    "### Querying\n",
    "\n",
    "*Marvin* allows you to prompt functions in natural language. "
   ]
  },
  {
   "cell_type": "code",
   "execution_count": null,
   "metadata": {},
   "outputs": [],
   "source": [
    "from marvin.openai import openai_fn\n",
    "\n",
    "@openai_fn\n",
    "def add(x: int, y:int) -> str:\n",
    "    '''Adds two numbers together'''\n",
    "    return x + y\n",
    "\n",
    "add.prompt([\n",
    "{\n",
    "    'role': 'system',\n",
    "    'content': 'You are a helpful calculator.',\n",
    "},\n",
    "{\n",
    "    'role': 'user',\n",
    "    'content': 'What is 2 + 2?',\n",
    "}])"
   ]
  },
  {
   "attachments": {},
   "cell_type": "markdown",
   "metadata": {},
   "source": [
    "Returns the keyword arguments needed to evaluate with OpenAI's SDK."
   ]
  },
  {
   "cell_type": "code",
   "execution_count": null,
   "metadata": {},
   "outputs": [],
   "source": [
    "{\n",
    "    'messages': [\n",
    "        {'role': 'system', 'content': 'You are a helpful calculator.'},\n",
    "        {'role': 'user', 'content': 'What is 2 + 2?'}\n",
    "    ],\n",
    "    'functions': [\n",
    "        {\n",
    "            'name': 'add',\n",
    "            'description': 'Adds two numbers together',\n",
    "            'parameters': {\n",
    "                'type': 'object',\n",
    "                'properties': {\n",
    "                    'x': {'title': 'X', 'type': 'integer'},\n",
    "                    'y': {'title': 'Y', 'type': 'integer'}\n",
    "                },\n",
    "                'required': ['x', 'y']\n",
    "            }\n",
    "        }\n",
    "    ],\n",
    "    'function_call': {'name': 'add'}\n",
    "}"
   ]
  },
  {
   "attachments": {},
   "cell_type": "markdown",
   "metadata": {},
   "source": [
    "By default, if you prompt a function directly as above, we set the function call equal to the name of function provided. This, in effect, forces OpenAI to use this function in service of your prompt. You can pass function_call = 'auto' to the prompt method to disable this default behavior."
   ]
  },
  {
   "attachments": {},
   "cell_type": "markdown",
   "metadata": {},
   "source": [
    "### Function Registry\n",
    "\n",
    "OpenAI's ChatCompletion API enables you to pass a list of `functions` for it to optionally call in service of a query. If it chooses to execute a function, either by choice or instruction, it will return a choice of function along with its formatted parameters for *you* to evaluate. The OpenAI schema accepts a JSON Schema representation of your functions.\n",
    "\n",
    "Marvin supplies an inuitive API for serializing your functions for use with OpenAI's Function API. "
   ]
  },
  {
   "cell_type": "code",
   "execution_count": null,
   "metadata": {},
   "outputs": [],
   "source": [
    "from marvin.openai import OpenAIFunctionRegistry\n",
    "\n",
    "registry = OpenAIFunctionRegistry()\n",
    "\n",
    "@registry.register\n",
    "def add(x: int, y: int) -> int:\n",
    "    '''Adds two numbers together'''\n",
    "    return x + y\n",
    "\n",
    "@registry.register\n",
    "def subtract(x: int, y: int) -> int:\n",
    "    '''Substracts `y` from `x`'''\n",
    "    return x - y\n",
    "\n",
    "registry.schema"
   ]
  },
  {
   "attachments": {},
   "cell_type": "markdown",
   "metadata": {},
   "source": [
    "Which returns the necessary keyword arguments to pass to OpenAI's SDK. Note the default behavior has changed: function_call is correctly set to 'auto' to indicate to OpenAI that it's free to choose between your passed functions (or invoking no function at all). "
   ]
  },
  {
   "cell_type": "code",
   "execution_count": null,
   "metadata": {},
   "outputs": [],
   "source": [
    "{\n",
    "  \"functions\": [\n",
    "    {\n",
    "      \"name\": \"add\",\n",
    "      \"description\": 'Adds two numbers together',\n",
    "      \"parameters\": {\n",
    "        \"type\": \"object\",\n",
    "        \"properties\": {\n",
    "          \"x\": {\n",
    "            \"title\": \"X\",\n",
    "            \"type\": \"integer\"\n",
    "          },\n",
    "          \"y\": {\n",
    "            \"title\": \"Y\",\n",
    "            \"type\": \"integer\"\n",
    "          }\n",
    "        },\n",
    "        \"required\": [\n",
    "          \"x\",\n",
    "          \"y\"\n",
    "        ]\n",
    "      }\n",
    "    },\n",
    "    {\n",
    "      \"name\": \"subtract\",\n",
    "      \"description\": 'Substracts `y` from `x`',\n",
    "      \"parameters\": {\n",
    "        \"type\": \"object\",\n",
    "        \"properties\": {\n",
    "          \"x\": {\n",
    "            \"title\": \"X\",\n",
    "            \"type\": \"integer\"\n",
    "          },\n",
    "          \"y\": {\n",
    "            \"title\": \"Y\",\n",
    "            \"type\": \"integer\"\n",
    "          }\n",
    "        },\n",
    "        \"required\": [\n",
    "          \"x\",\n",
    "          \"y\"\n",
    "        ]\n",
    "      }\n",
    "    }\n",
    "  ],\n",
    "  \"function_call\": \"auto\"\n",
    "}"
   ]
  },
  {
   "attachments": {},
   "cell_type": "markdown",
   "metadata": {},
   "source": [
    "As with a single function, you can prompt an entire function registry. This is effectively telling OpenAI that you'd like an answer and that it's allowed to call any one of your functions in service of a response"
   ]
  },
  {
   "cell_type": "code",
   "execution_count": null,
   "metadata": {},
   "outputs": [],
   "source": [
    "registry.prompt([\n",
    "    {\n",
    "        'role': 'system',\n",
    "        'content': 'You are a helpful calculator.',\n",
    "    },\n",
    "    {\n",
    "        'role': 'user',\n",
    "        'content': '(10 + 123) - 123?',\n",
    "    }\n",
    "])"
   ]
  },
  {
   "cell_type": "code",
   "execution_count": null,
   "metadata": {},
   "outputs": [],
   "source": [
    "{\n",
    "  \"messages\": [\n",
    "    {\n",
    "      \"role\": \"user\",\n",
    "      \"content\": \"What is (10 + 123) - 123?\"\n",
    "    }\n",
    "  ],\n",
    "  \"functions\": [\n",
    "    {\n",
    "      \"name\": \"add\",\n",
    "      \"description\": \"Adds two numbers together\",\n",
    "      \"parameters\": {\n",
    "        \"type\": \"object\",\n",
    "        \"properties\": {\n",
    "          \"x\": {\n",
    "            \"title\": \"X\",\n",
    "            \"type\": \"integer\"\n",
    "          },\n",
    "          \"y\": {\n",
    "            \"title\": \"Y\",\n",
    "            \"type\": \"integer\"\n",
    "          }\n",
    "        },\n",
    "        \"required\": [\n",
    "          \"x\",\n",
    "          \"y\"\n",
    "        ]\n",
    "      }\n",
    "    },\n",
    "    {\n",
    "      \"name\": \"subtract\",\n",
    "      \"description\": \"Substracts `y` from `x`\",\n",
    "      \"parameters\": {\n",
    "        \"type\": \"object\",\n",
    "        \"properties\": {\n",
    "          \"x\": {\n",
    "            \"title\": \"X\",\n",
    "            \"type\": \"integer\"\n",
    "          },\n",
    "          \"y\": {\n",
    "            \"title\": \"Y\",\n",
    "            \"type\": \"integer\"\n",
    "          }\n",
    "        },\n",
    "        \"required\": [\n",
    "          \"x\",\n",
    "          \"y\"\n",
    "        ]\n",
    "      }\n",
    "    }\n",
    "  ],\n",
    "  \"function_call\": \"auto\"\n",
    "}"
   ]
  },
  {
   "attachments": {},
   "cell_type": "markdown",
   "metadata": {},
   "source": [
    "#### Composability\n",
    "\n",
    "Given two function routers, you can easily compose them. This let's you separately define, say, one registry devoted to accessing and processing one data source, and another devoted to accessing and processing another (with stricter permissions, perhaps). Including them is as straightfoward as calling `include` (which is, of course, idempotent)."
   ]
  },
  {
   "cell_type": "code",
   "execution_count": null,
   "metadata": {},
   "outputs": [],
   "source": [
    "math = OpenAIFunctionRegistry()\n",
    "\n",
    "arithmetic = OpenAIFunctionRegistry()\n",
    "\n",
    "trigonometry = OpenAIFunctionRegistry()\n",
    "\n",
    "@arithmetic.register\n",
    "def add(x: int, y: int) -> int:\n",
    "    '''Adds two numbers together'''\n",
    "\n",
    "@trigonometry.register\n",
    "def tan(theta: float) -> float:\n",
    "    '''Calculates the tangent of `theta`.'''\n",
    "    return x - y\n",
    "\n",
    "math.include(arithmetic)\n",
    "math.include(trigonometry)\n",
    "\n",
    "math.schema"
   ]
  },
  {
   "cell_type": "code",
   "execution_count": null,
   "metadata": {},
   "outputs": [],
   "source": [
    "{\n",
    "  \"functions\": [\n",
    "    {\n",
    "      \"name\": \"add\",\n",
    "      \"description\": \"Adds two numbers together\",\n",
    "      \"parameters\": {\n",
    "        \"type\": \"object\",\n",
    "        \"properties\": {\n",
    "          \"x\": {\n",
    "            \"title\": \"X\",\n",
    "            \"type\": \"integer\"\n",
    "          },\n",
    "          \"y\": {\n",
    "            \"title\": \"Y\",\n",
    "            \"type\": \"integer\"\n",
    "          }\n",
    "        },\n",
    "        \"required\": [\n",
    "          \"x\",\n",
    "          \"y\"\n",
    "        ]\n",
    "      }\n",
    "    },\n",
    "    {\n",
    "      \"name\": \"tan\",\n",
    "      \"description\": \"Calculates the tangent of `theta`.\",\n",
    "      \"parameters\": {\n",
    "        \"type\": \"object\",\n",
    "        \"properties\": {\n",
    "          \"theta\": {\n",
    "            \"title\": \"Theta\",\n",
    "            \"type\": \"number\"\n",
    "          }\n",
    "        },\n",
    "        \"required\": [\n",
    "          \"theta\"\n",
    "        ]\n",
    "      }\n",
    "    }\n",
    "  ],\n",
    "  \"function_call\": \"auto\"\n",
    "}"
   ]
  },
  {
   "attachments": {},
   "cell_type": "markdown",
   "metadata": {},
   "source": [
    "### Code Generation\n",
    "\n",
    "*Marvin* offers an experimental utility to author code using OpenAI's function API. Given a function with a typed signature and a docstring, we can write entire functions in the language of your choice. Simple call `.code()` on a function decorated with @openai_fn. \n",
    "\n",
    "Behind the scenes, we define a utility function write_code:"
   ]
  },
  {
   "cell_type": "code",
   "execution_count": null,
   "metadata": {},
   "outputs": [],
   "source": [
    "from marvin.openai import openai_fn\n",
    "\n",
    "@openai_fn\n",
    "def write_code(\n",
    "    language: str,\n",
    "    filename: str,\n",
    "    name: str, \n",
    "    docstring: str, \n",
    "    code: str,\n",
    ") -> str:\n",
    "    '''Accepts and checks expertly staff engineer quality written `code` in `language`'''\n",
    "    return(language, filename, name, docstring, code)"
   ]
  },
  {
   "attachments": {},
   "cell_type": "markdown",
   "metadata": {},
   "source": [
    "When you call the `code` method on *your* openai_fn, we simply call:"
   ]
  },
  {
   "cell_type": "code",
   "execution_count": null,
   "metadata": {},
   "outputs": [],
   "source": [
    "@openai_fn\n",
    "def add(x: int, y:int) -> str:\n",
    "    '''Adds two numbers together'''\n",
    "    # There is no code here! #\n",
    "\n",
    "write_code.prompt([{\n",
    "    'role': 'user',\n",
    "    'content': f'''A function in python that described by the following schema:\\n {add.schema}'''\n",
    "}])"
   ]
  },
  {
   "attachments": {},
   "cell_type": "markdown",
   "metadata": {},
   "source": [
    "This returns the following payload for you to send to OpenAI, which forces it to write code that satisfies the high-level description of your function."
   ]
  },
  {
   "cell_type": "code",
   "execution_count": null,
   "metadata": {},
   "outputs": [],
   "source": [
    "{\n",
    "    'messages': \n",
    "    [{\n",
    "        'role': 'user',\n",
    "        'content': \"A function in python that described by the following schema:\n",
    "            {'name': 'add', \n",
    "             'description': 'Adds two numbers together', \n",
    "             'parameters': {\n",
    "                 'type': 'object', \n",
    "                 'properties': {\n",
    "                     'x': {'title': 'X', 'type': 'integer'}, \n",
    "                     'y': {'title': 'Y', 'type': 'integer'}\n",
    "                }, 'required': ['x', 'y']\n",
    "            }\n",
    "        }\"\n",
    "    }],\n",
    "    'functions': [\n",
    "        {\n",
    "            'name': 'write_code',\n",
    "            'description': 'Accepts and checks expertly staff engineer quality written `code` in `language`',\n",
    "            'parameters': {\n",
    "                'type': 'object',\n",
    "                'properties': {\n",
    "                    'language': {'title': 'Language', 'type': 'string'},\n",
    "                    'filename': {'title': 'Filename', 'type': 'string'},\n",
    "                    'name': {'title': 'Name', 'type': 'string'},\n",
    "                    'docstring': {'title': 'Docstring', 'type': 'string'},\n",
    "                    'code': {'title': 'Code', 'type': 'string'}},\n",
    "            'required': ['language', 'filename', 'name', 'docstring', 'code']\n",
    "            }\n",
    "        }\n",
    "    ],\n",
    "    'function_call': {'name': 'write_code'}\n",
    "}\n"
   ]
  },
  {
   "attachments": {},
   "cell_type": "markdown",
   "metadata": {},
   "source": [
    "If we give it a trivial example and call `.code()`, we see:"
   ]
  },
  {
   "cell_type": "code",
   "execution_count": null,
   "metadata": {},
   "outputs": [],
   "source": [
    "from marvin.openai import openai_fn\n",
    "import openai \n",
    "openai.api_key = 'YOUR_OPENAPI_KEY'\n",
    "\n",
    "@openai_fn\n",
    "def add(x: int, y:int) -> str:\n",
    "    '''Adds two numbers together'''\n",
    "    # There is no code here! #\n",
    "\n",
    "write_code_instructions = add.code()\n",
    "\n",
    "response = await openai.ChatCompletion.acreate(\n",
    "    model = 'gpt-3.5-turbo', \n",
    "    **write_code_instructions\n",
    ")\n",
    "\n",
    "print(response.choices[0].message.get('function_call').get('arguments'))"
   ]
  },
  {
   "attachments": {},
   "cell_type": "markdown",
   "metadata": {},
   "source": [
    "Which returns"
   ]
  },
  {
   "cell_type": "code",
   "execution_count": null,
   "metadata": {},
   "outputs": [],
   "source": [
    "{\n",
    "  \"language\": \"python\",\n",
    "  \"filename\": \"add.py\",\n",
    "  \"name\": \"add\",\n",
    "  \"docstring\": \"Adds two numbers together\",\n",
    "  \"code\": \"def add(x: int, y: int) -> int:\\n    return x + y\"\n",
    "}"
   ]
  }
 ],
 "metadata": {
  "kernelspec": {
   "display_name": "Python 3 (ipykernel)",
   "language": "python",
   "name": "python3"
  },
  "language_info": {
   "codemirror_mode": {
    "name": "ipython",
    "version": 3
   },
   "file_extension": ".py",
   "mimetype": "text/x-python",
   "name": "python",
   "nbconvert_exporter": "python",
   "pygments_lexer": "ipython3",
   "version": "3.11.3"
  },
  "orig_nbformat": 4
 },
 "nbformat": 4,
 "nbformat_minor": 2
}
