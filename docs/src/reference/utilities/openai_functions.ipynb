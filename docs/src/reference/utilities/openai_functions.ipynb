{
 "cells": [
  {
   "attachments": {},
   "cell_type": "markdown",
   "metadata": {},
   "source": [
    "# Functions\n",
    "\n",
    "OpenAI's ChatCompletion API enables you to pass a list of `functions` for it to optionally call in service of a query. If it chooses to execute a function, either by choice or instruction, it will the function's name along with its formatted parameters for *you* to evaluate. The OpenAI schema accepts a JSON Schema representation of your functions.\n",
    "\n",
    "Marvin includes first-class utilities for working with OpenAI's function API. These utilities are completely standalone: you're free to use them with or without Marvin's other components or framework. "
   ]
  },
  {
   "cell_type": "code",
   "execution_count": null,
   "metadata": {},
   "outputs": [],
   "source": [
    "from marvin import openai_fn\n",
    "\n",
    "@openai_fn\n",
    "def add(x: int, y:int) -> str:\n",
    "    return x + y"
   ]
  },
  {
   "attachments": {},
   "cell_type": "markdown",
   "metadata": {},
   "source": [
    "### Serialization\n",
    "\n",
    "*Marvin* allows auto creation of JSON Schemas from functions:"
   ]
  },
  {
   "cell_type": "code",
   "execution_count": null,
   "metadata": {},
   "outputs": [],
   "source": [
    "from marvin import openai_fn\n",
    "\n",
    "@openai_fn\n",
    "def add(x: int, y:int) -> str:\n",
    "    '''Adds two numbers together'''\n",
    "    return x + y\n",
    "\n",
    "add.schema()"
   ]
  },
  {
   "attachments": {},
   "cell_type": "markdown",
   "metadata": {},
   "source": [
    "Returns its JSON Schema to use with OpenAI's function API."
   ]
  },
  {
   "cell_type": "code",
   "execution_count": null,
   "metadata": {},
   "outputs": [],
   "source": [
    "{\n",
    "    \"name\": \"add\",\n",
    "    \"description\": \"Adds two numbers together\",\n",
    "    \"parameters\": {\n",
    "        \"x\": {\n",
    "            \"type\": \"int\",\n",
    "            \"description\": null\n",
    "        },\n",
    "        \"y\": {\n",
    "            \"type\": \"int\",\n",
    "            \"description\": null\n",
    "        },\n",
    "        \"required\": [\"x\", \"y\"],\n",
    "    }\n",
    "}"
   ]
  },
  {
   "attachments": {},
   "cell_type": "markdown",
   "metadata": {},
   "source": [
    "### Querying\n",
    "\n",
    "*Marvin* allows you to prompt functions in natural language. "
   ]
  },
  {
   "cell_type": "code",
   "execution_count": null,
   "metadata": {},
   "outputs": [],
   "source": [
    "from marvin.openai import @openai_fn\n",
    "\n",
    "@openai_fn\n",
    "def add(x: int, y:int) -> str:\n",
    "    '''Adds two numbers together'''\n",
    "    return x + y\n",
    "\n",
    "add.prompt([\n",
    "{\n",
    "    'role': 'system',\n",
    "    'content': 'You are a helpful calculator.',\n",
    "},\n",
    "{\n",
    "    'role': 'user',\n",
    "    'content': 'What is 2 + 2?',\n",
    "}])"
   ]
  },
  {
   "attachments": {},
   "cell_type": "markdown",
   "metadata": {},
   "source": [
    "By default, if you prompt a function directly as above, we force OpenAI to make a function call on your behalf. You can pass function_call = 'auto' to disable this default."
   ]
  },
  {
   "attachments": {},
   "cell_type": "markdown",
   "metadata": {},
   "source": [
    "### Code Generation\n",
    "\n",
    "*Marvin* offers an experimental API to author code. You need only provide a typed-hinted signature and a docstring."
   ]
  },
  {
   "cell_type": "code",
   "execution_count": null,
   "metadata": {},
   "outputs": [],
   "source": [
    "from marvin.openai import @openai_fn\n",
    "\n",
    "@openai_fn\n",
    "def add(x: int, y:int) -> str:\n",
    "    '''Adds two numbers together'''\n",
    "    # There is no code here! #\n",
    "\n",
    "add.code()"
   ]
  },
  {
   "attachments": {},
   "cell_type": "markdown",
   "metadata": {},
   "source": [
    "### Function Registry\n",
    "\n",
    "OpenAI's ChatCompletion API enables you to pass a list of `functions` for it to optionally call in service of a query. If it chooses to execute a function, either by choice or instruction, it will return a choice of function along with its formatted parameters for *you* to evaluate. The OpenAI schema accepts a JSON Schema representation of your functions.\n",
    "\n",
    "Marvin supplies an inuitive API for serializing your functions for use with OpenAI's Function API. "
   ]
  }
 ],
 "metadata": {
  "kernelspec": {
   "display_name": "Python 3 (ipykernel)",
   "language": "python",
   "name": "python3"
  },
  "language_info": {
   "codemirror_mode": {
    "name": "ipython",
    "version": 3
   },
   "file_extension": ".py",
   "mimetype": "text/x-python",
   "name": "python",
   "nbconvert_exporter": "python",
   "pygments_lexer": "ipython3",
   "version": "3.11.3"
  },
  "orig_nbformat": 4
 },
 "nbformat": 4,
 "nbformat_minor": 2
}
