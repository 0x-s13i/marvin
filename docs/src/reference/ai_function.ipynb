{
 "cells": [
  {
   "attachments": {},
   "cell_type": "markdown",
   "metadata": {},
   "source": [
    "# ai_fn\n",
    "\n",
    "`ai_fn` let's you employ Large Language Models to *evaluate* Python functions. `ai_fn` leverages your function's name, description, signature, and type hints and templates a prompt behind the scenes. That prompt is sent to an LLM to generate a response for your *code-less* function.\n",
    "\n",
    "- With `ai_fn` you don't write prompts, the prompt is written *for* you behind the scenes. \n",
    "- With `ai_fn` you get a typesafe interface to working with LLMs that works with your data model."
   ]
  },
  {
   "attachments": {},
   "cell_type": "markdown",
   "metadata": {},
   "source": [
    "## LLM Runtime\n",
    "\n",
    "By default, with `ai_fn` you don't write code, and code is not written behind the scenes. "
   ]
  },
  {
   "cell_type": "code",
   "execution_count": 7,
   "metadata": {},
   "outputs": [],
   "source": [
    "from marvin import ai_fn\n",
    "from pydantic import BaseModel\n",
    "\n",
    "\n",
    "class SyntheticCustomer(BaseModel):\n",
    "    age: int\n",
    "    location: str\n",
    "    purchase_history: list[str]\n",
    "\n",
    "\n",
    "@ai_fn\n",
    "def generate_synthetic_customer_data(\n",
    "    n: int, locations: list[str], average_purchase_history_length: int\n",
    ") -> list[SyntheticCustomer]:\n",
    "    \"\"\"\n",
    "    Generates synthetic customer data based on the given parameters.\n",
    "    Parameters include the number of customers ('n'),\n",
    "    a list of potential locations, and the average length of a purchase history.\n",
    "    \"\"\"\n",
    "\n",
    "\n",
    "response = generate_synthetic_customer_data(\n",
    "    10, [\"New York\", \"San Francisco\", \"Chicago\"], 5\n",
    ")"
   ]
  },
  {
   "attachments": {},
   "cell_type": "markdown",
   "metadata": {},
   "source": [
    "This is especially helpful for generating synthetic data (see below), or coding *impossible* functions. See below for examples."
   ]
  },
  {
   "attachments": {},
   "cell_type": "markdown",
   "metadata": {},
   "source": [
    "## English API\n",
    "\n",
    "Marvin exposes an API to prompt an `ai_fn` with natural language. This, in a sense, let's you create a Language API for any function you can write down."
   ]
  },
  {
   "cell_type": "code",
   "execution_count": null,
   "metadata": {},
   "outputs": [],
   "source": [
    "generate_synthetic_customer_data.prompt(\n",
    "    \"I need 10 customers examples from major US cities making between 3 and 7\"\n",
    "    \" purchases.\"\n",
    ")"
   ]
  },
  {
   "attachments": {},
   "cell_type": "markdown",
   "metadata": {},
   "source": [
    "## Code Generation\n",
    "\n",
    "Marvin exposes an experimental API for code generation. Simply call `.code()` on an ai_fn, and Marvin will generate the code for you. By default, Marvin will write python code. You can pass a language keyword to generate code in other languages, i.e. `.code(language = 'rust')`. For best performance give your function a good name, with descriptive docstring, and a signature with type-hints. Provided code will be interpreted as pseudocode. "
   ]
  },
  {
   "cell_type": "code",
   "execution_count": null,
   "metadata": {},
   "outputs": [],
   "source": [
    "from marvin import ai_fn\n",
    "\n",
    "\n",
    "@ai_fn\n",
    "def fibonacci(n: int) -> int:\n",
    "    \"\"\"\n",
    "    Returns the nth number in the Fibonacci sequence.\n",
    "    \"\"\"\n",
    "\n",
    "\n",
    "fibonacci.code()"
   ]
  },
  {
   "attachments": {},
   "cell_type": "markdown",
   "metadata": {},
   "source": [
    "## Examples\n",
    "\n",
    "Rapidly prototype natural language pipelines.\n",
    "- Use hallucination as a literal feature. Generate data that would be impossible\n",
    "or prohibatively expensive to purchase as you rapidly protype NLP pipelines. \n",
    "\n",
    "### Customer Sentiment"
   ]
  },
  {
   "cell_type": "code",
   "execution_count": null,
   "metadata": {},
   "outputs": [],
   "source": [
    "@ai_fn\n",
    "def analyze_customer_sentiment(reviews: list[str]) -> dict:\n",
    "    \"\"\"\n",
    "    Returns an analysis of customer sentiment, including common\n",
    "    complaints, praises, and suggestions, from a list of product\n",
    "    reviews.\n",
    "    \"\"\"\n",
    "\n",
    "\n",
    "# analyze_customer_sentiment([\"I love this product!\", \"I hate this product!\"])"
   ]
  },
  {
   "attachments": {},
   "cell_type": "markdown",
   "metadata": {},
   "source": [
    "General real fake data.\n",
    "- Use hallucination as a figurative feature. Use python or pydantic\n",
    "to describe the data model you need, and generate realistic data on the fly \n",
    "for sales demos."
   ]
  },
  {
   "attachments": {},
   "cell_type": "markdown",
   "metadata": {},
   "source": [
    "### Generate Synthetic Data"
   ]
  },
  {
   "cell_type": "code",
   "execution_count": null,
   "metadata": {},
   "outputs": [],
   "source": [
    "class FinancialReport(pydantic.BaseModel):\n",
    "    ...\n",
    "\n",
    "\n",
    "@ai_fn\n",
    "def generate_financial_scenario(\n",
    "    n: int, market_conditions: str\n",
    ") -> list[FinancialReport]:\n",
    "    \"\"\"\n",
    "    Generates `n` synthetic financial reports based on specified\n",
    "    `market_conditions` (e.g., 'recession', 'bull market', 'stagnant economy').\n",
    "    \"\"\""
   ]
  },
  {
   "cell_type": "code",
   "execution_count": null,
   "metadata": {},
   "outputs": [],
   "source": [
    "class IoTData(pydantic.BaseModel):\n",
    "    ...\n",
    "\n",
    "\n",
    "@ai_fn\n",
    "def generate_synthetic_IoT_data(n: int, device_type: str) -> list[IoTData]:\n",
    "    \"\"\"\n",
    "    Generates `n` synthetic data points mimicking those from a specified\n",
    "    `device_type` in an IoT system.\n",
    "    \"\"\""
   ]
  }
 ],
 "metadata": {
  "kernelspec": {
   "display_name": "Python 3 (ipykernel)",
   "language": "python",
   "name": "python3"
  },
  "language_info": {
   "codemirror_mode": {
    "name": "ipython",
    "version": 3
   },
   "file_extension": ".py",
   "mimetype": "text/x-python",
   "name": "python",
   "nbconvert_exporter": "python",
   "pygments_lexer": "ipython3",
   "version": "3.11.3"
  },
  "orig_nbformat": 4
 },
 "nbformat": 4,
 "nbformat_minor": 2
}
