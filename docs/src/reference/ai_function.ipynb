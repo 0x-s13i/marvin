{
 "cells": [
  {
   "attachments": {},
   "cell_type": "markdown",
   "metadata": {},
   "source": [
    "# ai_fn\n",
    "\n",
    "`ai_fn` let's you employ Large Language Models to *evaluate* Python functions. `ai_fn` leverages your function's name, description, signature, and type hints and templates a prompt behind the scenes. That prompt is sent to an LLM to generate a response for your *code-less* function.\n",
    "\n",
    "- With `ai_fn` you don't write prompts, the prompt is written *for* you behind the scenes. \n",
    "- With `ai_fn` you get a typesafe interface to working with LLMs that works with your data model.\n",
    "- With `ai_fn` you don't write code, and code is not written behind the scenes. "
   ]
  },
  {
   "cell_type": "code",
   "execution_count": null,
   "metadata": {},
   "outputs": [],
   "source": [
    "from marvin import ai_fn \n",
    "\n",
    "@ai_fn\n",
    "def extract_contract_terms(text: str) -> list[str]:\n",
    "    \"\"\"\n",
    "    Returns a list of all key terms, conditions, and clauses mentioned in a \n",
    "    legal contract.\n",
    "    \"\"\"\n",
    "\n",
    "# extract_contract_terms(\"contact_terms.pdf\") -> list of terms, conditions, and clauses..."
   ]
  },
  {
   "attachments": {},
   "cell_type": "markdown",
   "metadata": {},
   "source": [
    "## Examples\n",
    "\n",
    "Rapidly prototype natural language pipelines.\n",
    "- Use hallucination as a literal feature. Generate data that would be impossible\n",
    "or prohibatively expensive to purchase as you rapidly protype NLP pipelines. \n",
    "\n",
    "### Customer Sentiment"
   ]
  },
  {
   "cell_type": "code",
   "execution_count": null,
   "metadata": {},
   "outputs": [],
   "source": [
    "@ai_fn\n",
    "def analyze_customer_sentiment(reviews: list[str]) -> dict:\n",
    "    \"\"\"\n",
    "    Returns an analysis of customer sentiment, including common \n",
    "    complaints, praises, and suggestions, from a list of product \n",
    "    reviews.\n",
    "    \"\"\"\n",
    "\n",
    "# analyze_customer_sentiment([\"I love this product!\", \"I hate this product!\"]) "
   ]
  },
  {
   "attachments": {},
   "cell_type": "markdown",
   "metadata": {},
   "source": [
    "General real fake data.\n",
    "- Use hallucination as a figurative feature. Use python or pydantic\n",
    "to describe the data model you need, and generate realistic data on the fly \n",
    "for sales demos."
   ]
  },
  {
   "attachments": {},
   "cell_type": "markdown",
   "metadata": {},
   "source": [
    "### Generate Synthetic Data"
   ]
  },
  {
   "cell_type": "code",
   "execution_count": null,
   "metadata": {},
   "outputs": [],
   "source": [
    "class FinancialReport(pydantic.BaseModel):\n",
    "    ...\n",
    "\n",
    "@ai_fn\n",
    "def generate_financial_scenario(n: int, market_conditions: str) -> list[FinancialReport]:\n",
    "    \"\"\"\n",
    "    Generates `n` synthetic financial reports based on specified \n",
    "    `market_conditions` (e.g., 'recession', 'bull market', 'stagnant economy').\n",
    "    \"\"\""
   ]
  },
  {
   "cell_type": "code",
   "execution_count": null,
   "metadata": {},
   "outputs": [],
   "source": [
    "class IoTData(pydantic.BaseModel):\n",
    "    ...\n",
    "\n",
    "@ai_fn\n",
    "def generate_synthetic_IoT_data(n: int, device_type: str) -> list[IoTData]:\n",
    "    \"\"\"\n",
    "    Generates `n` synthetic data points mimicking those from a specified \n",
    "    `device_type` in an IoT system.\n",
    "    \"\"\""
   ]
  }
 ],
 "metadata": {
  "language_info": {
   "name": "python"
  },
  "orig_nbformat": 4
 },
 "nbformat": 4,
 "nbformat_minor": 2
}
