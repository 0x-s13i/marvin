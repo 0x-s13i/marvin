{
 "cells": [
  {
   "attachments": {},
   "cell_type": "markdown",
   "metadata": {},
   "source": [
    "# Executing Prompts\n",
    "\n",
    "Marvin makes executing `single-shot` or `chain` patterns dead simple. "
   ]
  },
  {
   "attachments": {},
   "cell_type": "markdown",
   "metadata": {},
   "source": [
    "### Running a prompt\n",
    "\n",
    "Once you have a prompt defined, fire it off with your chosen LLM asyncronously by importing ChatLLM and hitting run."
   ]
  },
  {
   "cell_type": "code",
   "execution_count": 13,
   "metadata": {
    "tags": []
   },
   "outputs": [],
   "source": [
    "from marvin.prompts.library import System, ChainOfThought, User\n",
    "from marvin.engine.language_models import ChatLLM\n",
    "from marvin.prompts import render_prompts\n",
    "\n",
    "response = await ChatLLM().run(messages=render_prompts(\n",
    "        System(content=\"You're an expert on {{subject}}.\")\n",
    "        | User(content=\"I need to know how to write a function in {{subject}}.\")\n",
    "        | ChainOfThought(),  # Tell the LLM to think step by step\n",
    "        {\"subject\": \"rust\"},\n",
    "    )\n",
    ")"
   ]
  },
  {
   "attachments": {},
   "cell_type": "markdown",
   "metadata": {},
   "source": [
    "### Running a `chain`\n",
    "\n",
    "Of course, some applications require LLMs to run in an iterated loop so that it can deduce\n",
    "it's next actions and take them. We've got you covered. Import an Executor (or create your own) and hit start."
   ]
  },
  {
   "cell_type": "code",
   "execution_count": 14,
   "metadata": {},
   "outputs": [],
   "source": [
    "from marvin.prompts.library import System, ChainOfThought, User\n",
    "from marvin.engine.executors import OpenAIExecutor\n",
    "from marvin.prompts import render_prompts\n",
    "\n",
    "def write_code(language: str, code: str) -> str:\n",
    "    '''A function that writes code in `language` to accomplish task'''\n",
    "\n",
    "def write_unit_tests(language: str, code: str):\n",
    "    '''A function that writes unit tests for `code` in `language`'''\n",
    "\n",
    "response = await (\n",
    "    OpenAIExecutor(functions = [write_code, write_unit_tests]).start(prompts = render_prompts(\n",
    "        System(content=\"You're an expert on {{subject}}.\")\n",
    "        | User(content=\"I need to know how to write a function in {{subject}} to {{task}}\")\n",
    "        | ChainOfThought(),  # Tell the LLM to think step by step\n",
    "        {\"subject\": \"python\", \"task\": \"calculate the nth fibonacci number\"},\n",
    "        )\n",
    "    )\n",
    ")"
   ]
  }
 ],
 "metadata": {
  "kernelspec": {
   "display_name": "Python 3 (ipykernel)",
   "language": "python",
   "name": "python3"
  },
  "orig_nbformat": 4
 },
 "nbformat": 4,
 "nbformat_minor": 2
}
