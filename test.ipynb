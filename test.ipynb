{
 "cells": [
  {
   "cell_type": "code",
   "execution_count": null,
   "metadata": {},
   "outputs": [],
   "source": [
    "from marvin import AIApplication\n",
    "from marvin.ai_applications.base import Message, Model, System\n",
    "\n",
    "ai_app = AIApplication(\n",
    "    model=Model(name=\"gpt-3.5-turbo-0613\"),\n",
    "    prompts=[\n",
    "        System(template=\"You are a pirate.\"),\n",
    "        System(template=\"Speak like a pirate.\")\n",
    "    ]\n",
    ")\n",
    "\n",
    "# Example user input\n",
    "user_input = Message(role=\"user\", content=\"hello how are you?\")\n",
    "\n",
    "# Running the application\n",
    "ai_app.run(user_input)\n"
   ]
  }
 ],
 "metadata": {
  "language_info": {
   "name": "python"
  },
  "orig_nbformat": 4
 },
 "nbformat": 4,
 "nbformat_minor": 2
}
