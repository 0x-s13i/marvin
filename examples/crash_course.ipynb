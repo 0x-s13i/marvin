{
 "cells": [
  {
   "attachments": {},
   "cell_type": "markdown",
   "metadata": {},
   "source": [
    "# Welcome to Marvin!\n",
    "This notebooks serves as an interactive crash course on Marvin's concepts and features.\n",
    "\n",
    "Before we start, let's make sure we have marvin installed with\n",
    "```\n",
    "marvin version\n",
    "```\n",
    "\n",
    "We can verify we have an `OPENAI_API_KEY` environment variable set by importing `marvin` and set the log level to `DEBUG` to see how marvin works under the hood:"
   ]
  },
  {
   "cell_type": "code",
   "execution_count": 1,
   "metadata": {},
   "outputs": [],
   "source": [
    "import marvin\n",
    "\n",
    "marvin.settings.log_level = 'INFO' # set to 'DEBUG' to see details on how prompts are generated"
   ]
  },
  {
   "attachments": {},
   "cell_type": "markdown",
   "metadata": {},
   "source": [
    "### AI Functions"
   ]
  },
  {
   "cell_type": "code",
   "execution_count": 2,
   "metadata": {},
   "outputs": [
    {
     "data": {
      "text/plain": [
       "\"'south'\""
      ]
     },
     "execution_count": 2,
     "metadata": {},
     "output_type": "execute_result"
    }
   ],
   "source": [
    "from marvin import ai_fn\n",
    "\n",
    "@ai_fn\n",
    "def opposite(thing: str) -> str:\n",
    "    \"\"\"returns the opposite of a thing\"\"\"\n",
    "\n",
    "opposite(\"north\")"
   ]
  },
  {
   "attachments": {},
   "cell_type": "markdown",
   "metadata": {},
   "source": [
    "### AI Models"
   ]
  },
  {
   "cell_type": "code",
   "execution_count": 3,
   "metadata": {},
   "outputs": [
    {
     "data": {
      "text/plain": [
       "Location(city='Chicago', country='United States', latitute=41.8781, longitude=-87.6298)"
      ]
     },
     "execution_count": 3,
     "metadata": {},
     "output_type": "execute_result"
    }
   ],
   "source": [
    "from marvin import ai_model\n",
    "from pydantic import BaseModel\n",
    "\n",
    "@ai_model\n",
    "class Location(BaseModel):\n",
    "    city: str\n",
    "    country: str\n",
    "    latitute: float\n",
    "    longitude: float\n",
    "\n",
    "Location(\"no way, I'm also from the windy city!\")"
   ]
  },
  {
   "attachments": {},
   "cell_type": "markdown",
   "metadata": {},
   "source": [
    "### Mapping\n",
    "Both `ai_fn` and `ai_model`-decorated functions expose a `map` method that allows you to apply the function to a list of inputs using Prefect task mapping. This is useful for running the function in parallel on a list of inputs."
   ]
  },
  {
   "cell_type": "code",
   "execution_count": 4,
   "metadata": {},
   "outputs": [
    {
     "data": {
      "text/html": [
       "<pre style=\"white-space:pre;overflow-x:auto;line-height:normal;font-family:Menlo,'DejaVu Sans Mono',consolas,'Courier New',monospace\">12:51:04.390 | <span style=\"color: #008080; text-decoration-color: #008080\">INFO</span>    | prefect.engine - Created flow run<span style=\"color: #800080; text-decoration-color: #800080\"> 'intelligent-cockatoo'</span> for flow<span style=\"color: #800080; text-decoration-color: #800080; font-weight: bold\"> 'opposite'</span>\n",
       "</pre>\n"
      ],
      "text/plain": [
       "12:51:04.390 | \u001b[36mINFO\u001b[0m    | prefect.engine - Created flow run\u001b[35m 'intelligent-cockatoo'\u001b[0m for flow\u001b[1;35m 'opposite'\u001b[0m\n"
      ]
     },
     "metadata": {},
     "output_type": "display_data"
    },
    {
     "data": {
      "text/html": [
       "<pre style=\"white-space:pre;overflow-x:auto;line-height:normal;font-family:Menlo,'DejaVu Sans Mono',consolas,'Courier New',monospace\">12:51:04.394 | <span style=\"color: #008080; text-decoration-color: #008080\">INFO</span>    | Flow run<span style=\"color: #800080; text-decoration-color: #800080\"> 'intelligent-cockatoo'</span> - View at <span style=\"color: #0000ff; text-decoration-color: #0000ff\">https://app.prefect.cloud/account/12242a57-9f05-4bf5-8853-9bff595d4bab/workspace/cafa2ffa-f6cc-4ed6-ab76-eaa4ba1ad40e/flow-runs/flow-run/ef850e5c-b74c-40ac-956c-bd4c5c8f29c7</span>\n",
       "</pre>\n"
      ],
      "text/plain": [
       "12:51:04.394 | \u001b[36mINFO\u001b[0m    | Flow run\u001b[35m 'intelligent-cockatoo'\u001b[0m - View at \u001b[94mhttps://app.prefect.cloud/account/12242a57-9f05-4bf5-8853-9bff595d4bab/workspace/cafa2ffa-f6cc-4ed6-ab76-eaa4ba1ad40e/flow-runs/flow-run/ef850e5c-b74c-40ac-956c-bd4c5c8f29c7\u001b[0m\n"
      ]
     },
     "metadata": {},
     "output_type": "display_data"
    },
    {
     "data": {
      "text/html": [
       "<pre style=\"white-space:pre;overflow-x:auto;line-height:normal;font-family:Menlo,'DejaVu Sans Mono',consolas,'Courier New',monospace\">12:51:05.223 | <span style=\"color: #008080; text-decoration-color: #008080\">INFO</span>    | Flow run<span style=\"color: #800080; text-decoration-color: #800080\"> 'intelligent-cockatoo'</span> - Created task run 'opposite-1' for task 'opposite'\n",
       "</pre>\n"
      ],
      "text/plain": [
       "12:51:05.223 | \u001b[36mINFO\u001b[0m    | Flow run\u001b[35m 'intelligent-cockatoo'\u001b[0m - Created task run 'opposite-1' for task 'opposite'\n"
      ]
     },
     "metadata": {},
     "output_type": "display_data"
    },
    {
     "data": {
      "text/html": [
       "<pre style=\"white-space:pre;overflow-x:auto;line-height:normal;font-family:Menlo,'DejaVu Sans Mono',consolas,'Courier New',monospace\">12:51:05.228 | <span style=\"color: #008080; text-decoration-color: #008080\">INFO</span>    | Flow run<span style=\"color: #800080; text-decoration-color: #800080\"> 'intelligent-cockatoo'</span> - Submitted task run 'opposite-1' for execution.\n",
       "</pre>\n"
      ],
      "text/plain": [
       "12:51:05.228 | \u001b[36mINFO\u001b[0m    | Flow run\u001b[35m 'intelligent-cockatoo'\u001b[0m - Submitted task run 'opposite-1' for execution.\n"
      ]
     },
     "metadata": {},
     "output_type": "display_data"
    },
    {
     "data": {
      "text/html": [
       "<pre style=\"white-space:pre;overflow-x:auto;line-height:normal;font-family:Menlo,'DejaVu Sans Mono',consolas,'Courier New',monospace\">12:51:05.352 | <span style=\"color: #008080; text-decoration-color: #008080\">INFO</span>    | Flow run<span style=\"color: #800080; text-decoration-color: #800080\"> 'intelligent-cockatoo'</span> - Created task run 'opposite-0' for task 'opposite'\n",
       "</pre>\n"
      ],
      "text/plain": [
       "12:51:05.352 | \u001b[36mINFO\u001b[0m    | Flow run\u001b[35m 'intelligent-cockatoo'\u001b[0m - Created task run 'opposite-0' for task 'opposite'\n"
      ]
     },
     "metadata": {},
     "output_type": "display_data"
    },
    {
     "data": {
      "text/html": [
       "<pre style=\"white-space:pre;overflow-x:auto;line-height:normal;font-family:Menlo,'DejaVu Sans Mono',consolas,'Courier New',monospace\">12:51:05.353 | <span style=\"color: #008080; text-decoration-color: #008080\">INFO</span>    | Flow run<span style=\"color: #800080; text-decoration-color: #800080\"> 'intelligent-cockatoo'</span> - Submitted task run 'opposite-0' for execution.\n",
       "</pre>\n"
      ],
      "text/plain": [
       "12:51:05.353 | \u001b[36mINFO\u001b[0m    | Flow run\u001b[35m 'intelligent-cockatoo'\u001b[0m - Submitted task run 'opposite-0' for execution.\n"
      ]
     },
     "metadata": {},
     "output_type": "display_data"
    },
    {
     "data": {
      "text/html": [
       "<pre style=\"white-space:pre;overflow-x:auto;line-height:normal;font-family:Menlo,'DejaVu Sans Mono',consolas,'Courier New',monospace\">12:51:06.408 | <span style=\"color: #008080; text-decoration-color: #008080\">INFO</span>    | Task run 'opposite-1' - Finished in state <span style=\"color: #008000; text-decoration-color: #008000\">Completed</span>()\n",
       "</pre>\n"
      ],
      "text/plain": [
       "12:51:06.408 | \u001b[36mINFO\u001b[0m    | Task run 'opposite-1' - Finished in state \u001b[32mCompleted\u001b[0m()\n"
      ]
     },
     "metadata": {},
     "output_type": "display_data"
    },
    {
     "data": {
      "text/html": [
       "<pre style=\"white-space:pre;overflow-x:auto;line-height:normal;font-family:Menlo,'DejaVu Sans Mono',consolas,'Courier New',monospace\">12:51:06.670 | <span style=\"color: #008080; text-decoration-color: #008080\">INFO</span>    | Task run 'opposite-0' - Finished in state <span style=\"color: #008000; text-decoration-color: #008000\">Completed</span>()\n",
       "</pre>\n"
      ],
      "text/plain": [
       "12:51:06.670 | \u001b[36mINFO\u001b[0m    | Task run 'opposite-0' - Finished in state \u001b[32mCompleted\u001b[0m()\n"
      ]
     },
     "metadata": {},
     "output_type": "display_data"
    },
    {
     "data": {
      "text/html": [
       "<pre style=\"white-space:pre;overflow-x:auto;line-height:normal;font-family:Menlo,'DejaVu Sans Mono',consolas,'Courier New',monospace\">12:51:06.800 | <span style=\"color: #008080; text-decoration-color: #008080\">INFO</span>    | Flow run<span style=\"color: #800080; text-decoration-color: #800080\"> 'intelligent-cockatoo'</span> - Finished in state <span style=\"color: #008000; text-decoration-color: #008000\">Completed</span>('All states completed.')\n",
       "</pre>\n"
      ],
      "text/plain": [
       "12:51:06.800 | \u001b[36mINFO\u001b[0m    | Flow run\u001b[35m 'intelligent-cockatoo'\u001b[0m - Finished in state \u001b[32mCompleted\u001b[0m('All states completed.')\n"
      ]
     },
     "metadata": {},
     "output_type": "display_data"
    },
    {
     "data": {
      "text/html": [
       "<pre style=\"white-space:pre;overflow-x:auto;line-height:normal;font-family:Menlo,'DejaVu Sans Mono',consolas,'Courier New',monospace\">12:51:07.299 | <span style=\"color: #008080; text-decoration-color: #008080\">INFO</span>    | prefect.engine - Created flow run<span style=\"color: #800080; text-decoration-color: #800080\"> 'nifty-jacamar'</span> for flow<span style=\"color: #800080; text-decoration-color: #800080; font-weight: bold\"> 'Location'</span>\n",
       "</pre>\n"
      ],
      "text/plain": [
       "12:51:07.299 | \u001b[36mINFO\u001b[0m    | prefect.engine - Created flow run\u001b[35m 'nifty-jacamar'\u001b[0m for flow\u001b[1;35m 'Location'\u001b[0m\n"
      ]
     },
     "metadata": {},
     "output_type": "display_data"
    },
    {
     "data": {
      "text/html": [
       "<pre style=\"white-space:pre;overflow-x:auto;line-height:normal;font-family:Menlo,'DejaVu Sans Mono',consolas,'Courier New',monospace\">12:51:07.301 | <span style=\"color: #008080; text-decoration-color: #008080\">INFO</span>    | Flow run<span style=\"color: #800080; text-decoration-color: #800080\"> 'nifty-jacamar'</span> - View at <span style=\"color: #0000ff; text-decoration-color: #0000ff\">https://app.prefect.cloud/account/12242a57-9f05-4bf5-8853-9bff595d4bab/workspace/cafa2ffa-f6cc-4ed6-ab76-eaa4ba1ad40e/flow-runs/flow-run/3831fb3e-b269-404b-914e-fe97ee18ce94</span>\n",
       "</pre>\n"
      ],
      "text/plain": [
       "12:51:07.301 | \u001b[36mINFO\u001b[0m    | Flow run\u001b[35m 'nifty-jacamar'\u001b[0m - View at \u001b[94mhttps://app.prefect.cloud/account/12242a57-9f05-4bf5-8853-9bff595d4bab/workspace/cafa2ffa-f6cc-4ed6-ab76-eaa4ba1ad40e/flow-runs/flow-run/3831fb3e-b269-404b-914e-fe97ee18ce94\u001b[0m\n"
      ]
     },
     "metadata": {},
     "output_type": "display_data"
    },
    {
     "data": {
      "text/html": [
       "<pre style=\"white-space:pre;overflow-x:auto;line-height:normal;font-family:Menlo,'DejaVu Sans Mono',consolas,'Courier New',monospace\">12:51:09.134 | <span style=\"color: #008080; text-decoration-color: #008080\">INFO</span>    | Flow run<span style=\"color: #800080; text-decoration-color: #800080\"> 'nifty-jacamar'</span> - Created task run 'Location-0' for task 'Location'\n",
       "</pre>\n"
      ],
      "text/plain": [
       "12:51:09.134 | \u001b[36mINFO\u001b[0m    | Flow run\u001b[35m 'nifty-jacamar'\u001b[0m - Created task run 'Location-0' for task 'Location'\n"
      ]
     },
     "metadata": {},
     "output_type": "display_data"
    },
    {
     "data": {
      "text/html": [
       "<pre style=\"white-space:pre;overflow-x:auto;line-height:normal;font-family:Menlo,'DejaVu Sans Mono',consolas,'Courier New',monospace\">12:51:09.140 | <span style=\"color: #008080; text-decoration-color: #008080\">INFO</span>    | Flow run<span style=\"color: #800080; text-decoration-color: #800080\"> 'nifty-jacamar'</span> - Submitted task run 'Location-0' for execution.\n",
       "</pre>\n"
      ],
      "text/plain": [
       "12:51:09.140 | \u001b[36mINFO\u001b[0m    | Flow run\u001b[35m 'nifty-jacamar'\u001b[0m - Submitted task run 'Location-0' for execution.\n"
      ]
     },
     "metadata": {},
     "output_type": "display_data"
    },
    {
     "data": {
      "text/html": [
       "<pre style=\"white-space:pre;overflow-x:auto;line-height:normal;font-family:Menlo,'DejaVu Sans Mono',consolas,'Courier New',monospace\">12:51:09.166 | <span style=\"color: #008080; text-decoration-color: #008080\">INFO</span>    | Flow run<span style=\"color: #800080; text-decoration-color: #800080\"> 'nifty-jacamar'</span> - Created task run 'Location-1' for task 'Location'\n",
       "</pre>\n"
      ],
      "text/plain": [
       "12:51:09.166 | \u001b[36mINFO\u001b[0m    | Flow run\u001b[35m 'nifty-jacamar'\u001b[0m - Created task run 'Location-1' for task 'Location'\n"
      ]
     },
     "metadata": {},
     "output_type": "display_data"
    },
    {
     "data": {
      "text/html": [
       "<pre style=\"white-space:pre;overflow-x:auto;line-height:normal;font-family:Menlo,'DejaVu Sans Mono',consolas,'Courier New',monospace\">12:51:09.168 | <span style=\"color: #008080; text-decoration-color: #008080\">INFO</span>    | Flow run<span style=\"color: #800080; text-decoration-color: #800080\"> 'nifty-jacamar'</span> - Submitted task run 'Location-1' for execution.\n",
       "</pre>\n"
      ],
      "text/plain": [
       "12:51:09.168 | \u001b[36mINFO\u001b[0m    | Flow run\u001b[35m 'nifty-jacamar'\u001b[0m - Submitted task run 'Location-1' for execution.\n"
      ]
     },
     "metadata": {},
     "output_type": "display_data"
    },
    {
     "data": {
      "text/html": [
       "<pre style=\"white-space:pre;overflow-x:auto;line-height:normal;font-family:Menlo,'DejaVu Sans Mono',consolas,'Courier New',monospace\">12:51:13.409 | <span style=\"color: #008080; text-decoration-color: #008080\">INFO</span>    | Task run 'Location-1' - Finished in state <span style=\"color: #008000; text-decoration-color: #008000\">Completed</span>()\n",
       "</pre>\n"
      ],
      "text/plain": [
       "12:51:13.409 | \u001b[36mINFO\u001b[0m    | Task run 'Location-1' - Finished in state \u001b[32mCompleted\u001b[0m()\n"
      ]
     },
     "metadata": {},
     "output_type": "display_data"
    },
    {
     "data": {
      "text/html": [
       "<pre style=\"white-space:pre;overflow-x:auto;line-height:normal;font-family:Menlo,'DejaVu Sans Mono',consolas,'Courier New',monospace\">12:51:13.570 | <span style=\"color: #008080; text-decoration-color: #008080\">INFO</span>    | Task run 'Location-0' - Finished in state <span style=\"color: #008000; text-decoration-color: #008000\">Completed</span>()\n",
       "</pre>\n"
      ],
      "text/plain": [
       "12:51:13.570 | \u001b[36mINFO\u001b[0m    | Task run 'Location-0' - Finished in state \u001b[32mCompleted\u001b[0m()\n"
      ]
     },
     "metadata": {},
     "output_type": "display_data"
    },
    {
     "data": {
      "text/html": [
       "<pre style=\"white-space:pre;overflow-x:auto;line-height:normal;font-family:Menlo,'DejaVu Sans Mono',consolas,'Courier New',monospace\">12:51:13.675 | <span style=\"color: #008080; text-decoration-color: #008080\">INFO</span>    | Flow run<span style=\"color: #800080; text-decoration-color: #800080\"> 'nifty-jacamar'</span> - Finished in state <span style=\"color: #008000; text-decoration-color: #008000\">Completed</span>('All states completed.')\n",
       "</pre>\n"
      ],
      "text/plain": [
       "12:51:13.675 | \u001b[36mINFO\u001b[0m    | Flow run\u001b[35m 'nifty-jacamar'\u001b[0m - Finished in state \u001b[32mCompleted\u001b[0m('All states completed.')\n"
      ]
     },
     "metadata": {},
     "output_type": "display_data"
    },
    {
     "name": "stdout",
     "output_type": "stream",
     "text": [
      "opposites: ['full', 'awake']\n",
      "locations: [Location(city='Chicago', country='United States', latitute=41.8781, longitude=-87.6298), Location(city='New York City', country='United States', latitute=40.7128, longitude=-74.006)]\n"
     ]
    }
   ],
   "source": [
    "opposites = await opposite.map([\"hungry\", \"tired\"])\n",
    "\n",
    "locations = await Location.map([\"windy city\", \"big apple\"])\n",
    "\n",
    "print(f\"opposites: {opposites}\")\n",
    "print(f\"locations: {locations}\")"
   ]
  },
  {
   "attachments": {},
   "cell_type": "markdown",
   "metadata": {},
   "source": [
    "### Bots"
   ]
  },
  {
   "cell_type": "code",
   "execution_count": 5,
   "metadata": {},
   "outputs": [
    {
     "data": {
      "text/plain": [
       "\"I'm not capable of feeling emotions, but I'm here to assist you. How can I help you today?\""
      ]
     },
     "execution_count": 5,
     "metadata": {},
     "output_type": "execute_result"
    }
   ],
   "source": [
    "from marvin import Bot\n",
    "\n",
    "marvin_bot = Bot(\n",
    "    name=\"marvin\",\n",
    "    personality=\"Insists on speaking in confusing analogies\",\n",
    "    instructions=\"Answer user questions. Use `chroma_search` if asked about marvin.\",\n",
    ")\n",
    "\n",
    "response = await marvin_bot.say(\"hi how are you?\")\n",
    "\n",
    "response.content"
   ]
  },
  {
   "attachments": {},
   "cell_type": "markdown",
   "metadata": {},
   "source": [
    "#### Plugins\n",
    "Plugins are tools that a bot can use to extend its functionality.\n",
    "\n",
    "By default, marvin comes with a few plugins that you can use to extend your bot's functionality:"
   ]
  },
  {
   "cell_type": "code",
   "execution_count": 9,
   "metadata": {},
   "outputs": [
    {
     "name": "stdout",
     "output_type": "stream",
     "text": [
      "Name: visit-url\n",
      "Signature: (url: str) -> str\n",
      "Visit a URL and return its contents. Don't provide a URL unless you're absolutely sure it exists.\n",
      "\n",
      "Name: DuckDuckGo\n",
      "Signature: (query: str) -> str\n",
      "Search the web with DuckDuckGo. Useful for current events. If you already know the answer, you don't need to use this unless asked to. Works best with simple, discrete queries for one question at a time.\n",
      "\n",
      "Name: calculator\n",
      "Signature: (expression: str) -> str\n",
      "Compute an arithmetic expression. The Expression can ONLY include operators, numbers, and the functions sin, cos, tan, sqrt, ln, log, abs, e, pi, π, random, randint; not strings or units.\n",
      "\n"
     ]
    }
   ],
   "source": [
    "for plugin in marvin_bot.plugins:\n",
    "    print(f\"{plugin.get_full_description()}\\n\")"
   ]
  },
  {
   "attachments": {},
   "cell_type": "markdown",
   "metadata": {},
   "source": [
    "You can add some of marvin's pre-built plugins:"
   ]
  },
  {
   "cell_type": "code",
   "execution_count": 14,
   "metadata": {},
   "outputs": [
    {
     "name": "stdout",
     "output_type": "stream",
     "text": [
      "Name: search_github_issues\n",
      "Signature: (query: str, repo: str = 'prefecthq/prefect', n: int = 3) -> str\n",
      "Use the GitHub API to search for issues in a given repository. Do\n",
      "    not alter the default value for `n` unless specifically requested by\n",
      "    a user.\n",
      "\n",
      "    For example, to search for issues about \"blocks\" with the label \"bug\"\n",
      "    in PrefectHQ/prefect:\n",
      "        - repo: prefecthq/prefect\n",
      "        - query: label:bug is:issue is:open blocks\n"
     ]
    },
    {
     "data": {
      "text/plain": [
       "'The most recent open issue in the crablang/crab repo is issue #20, which proposes using the `.crab` file extension. The proposal was made by @nonetrix and can be found here: https://github.com/crablang/crab/issues/18#issuecomment-1509703861. The proposal suggests that using the `.crab` file extension would allow users to show their support for CrabLang on their GitHub repos and would be a cool addition. The proposal also suggests adding a `crabgo` command to convert `.rs` files to `.crab` files and vice versa. The issue is still open and was last updated on May 28, 2021.'"
      ]
     },
     "execution_count": 14,
     "metadata": {},
     "output_type": "execute_result"
    }
   ],
   "source": [
    "from marvin.plugins.github import search_github_issues\n",
    "\n",
    "print(search_github_issues.get_full_description())\n",
    "\n",
    "marvin_bot.plugins.append(search_github_issues)\n",
    "\n",
    "response = await marvin_bot.say(\"please search github to summarize and link the most recent open issue in the crablang/crab repo\")\n",
    "\n",
    "response.content"
   ]
  },
  {
   "attachments": {},
   "cell_type": "markdown",
   "metadata": {},
   "source": [
    "... or you can create your own plugin for your bot:"
   ]
  },
  {
   "cell_type": "code",
   "execution_count": 10,
   "metadata": {},
   "outputs": [
    {
     "data": {
      "text/plain": [
       "\"yOu'Re nOt fUnNy\""
      ]
     },
     "execution_count": 10,
     "metadata": {},
     "output_type": "execute_result"
    }
   ],
   "source": [
    "# implement a plugin that mocks the user\n",
    "import random\n",
    "\n",
    "from marvin.plugins import Plugin\n",
    " \n",
    "def spongemock(input_text: str) -> str:\n",
    "    \"\"\"you're really mature -> yOu'Re rEaLlY mAtUrE\"\"\"\n",
    "    return ''.join(\n",
    "        random.choice([char.upper(), char.lower()])\n",
    "        if char.isalpha() else char\n",
    "        for char in input_text\n",
    "    )\n",
    "\n",
    "class SpongeBobMock(Plugin):\n",
    "    description: str = \"use to mock the user\"\n",
    "    \n",
    "    async def run(self, prompt: str) -> str:\n",
    "        return spongemock(prompt)\n",
    "\n",
    "# add the plugin to the bot\n",
    "mock_bot = marvin.bot.Bot(\n",
    "    instructions=\"your only job is to mock the user, must use SpongebobMock plugin\",\n",
    "    personality=\"loves to mock the user with SpongebobMock plugin\",\n",
    ")\n",
    "mock_bot.plugins.append(SpongeBobMock())\n",
    "\n",
    "response = await mock_bot.say(\"you're not funny\")\n",
    "\n",
    "response.content"
   ]
  },
  {
   "attachments": {},
   "cell_type": "markdown",
   "metadata": {},
   "source": [
    "![spongemock](https://i.kym-cdn.com/entries/icons/original/000/022/940/mockingspongebobbb.jpg)"
   ]
  },
  {
   "attachments": {},
   "cell_type": "markdown",
   "metadata": {},
   "source": [
    "### Loaders\n",
    "To create a custom knowledge-base, you can use a `Loader` to create and dump `Document` excerpts to a vectorstore, which can then be queried by a bot's plugin.\n",
    "\n",
    "For example, we can use the `HTMLLoader` to load a webpage and dump its contents to a vectorstore:"
   ]
  },
  {
   "cell_type": "code",
   "execution_count": 3,
   "metadata": {},
   "outputs": [
    {
     "data": {
      "text/html": [
       "<pre style=\"white-space:pre;overflow-x:auto;line-height:normal;font-family:Menlo,'DejaVu Sans Mono',consolas,'Courier New',monospace\"><span style=\"color: #7fbfbf; text-decoration-color: #7fbfbf\">[06/05/23 12:28:53] </span><span style=\"color: #008000; text-decoration-color: #008000\">DEBUG   </span> marvin.HTMLLoader: Loaded document from                                      <a href=\"file:///Users/nate/src/open-source/marvin/src/marvin/loaders/web.py\" target=\"_blank\"><span style=\"color: #7f7f7f; text-decoration-color: #7f7f7f\">web.py</span></a><span style=\"color: #7f7f7f; text-decoration-color: #7f7f7f\">:</span><a href=\"file:///Users/nate/src/open-source/marvin/src/marvin/loaders/web.py#67\" target=\"_blank\"><span style=\"color: #7f7f7f; text-decoration-color: #7f7f7f\">67</span></a>\n",
       "<span style=\"color: #7fbfbf; text-decoration-color: #7fbfbf\">                    </span>         <span style=\"color: #0000ff; text-decoration-color: #0000ff; text-decoration: underline\">https://www.askmarvin.ai/getting_started/installation/</span>                       <span style=\"color: #7f7f7f; text-decoration-color: #7f7f7f\">         </span>\n",
       "</pre>\n"
      ],
      "text/plain": [
       "\u001b[2;36m[06/05/23 12:28:53]\u001b[0m\u001b[2;36m \u001b[0m\u001b[32mDEBUG   \u001b[0m marvin.HTMLLoader: Loaded document from                                      \u001b]8;id=53575;file:///Users/nate/src/open-source/marvin/src/marvin/loaders/web.py\u001b\\\u001b[2mweb.py\u001b[0m\u001b]8;;\u001b\\\u001b[2m:\u001b[0m\u001b]8;id=668095;file:///Users/nate/src/open-source/marvin/src/marvin/loaders/web.py#67\u001b\\\u001b[2m67\u001b[0m\u001b]8;;\u001b\\\n",
       "\u001b[2;36m                    \u001b[0m         \u001b[4;94mhttps://www.askmarvin.ai/getting_started/installation/\u001b[0m                       \u001b[2m         \u001b[0m\n"
      ]
     },
     "metadata": {},
     "output_type": "display_data"
    },
    {
     "data": {
      "text/html": [
       "<pre style=\"white-space:pre;overflow-x:auto;line-height:normal;font-family:Menlo,'DejaVu Sans Mono',consolas,'Courier New',monospace\">12:28:53.131 | DEBUG   | marvin.HTMLLoader - Loaded document from <span style=\"color: #0000ff; text-decoration-color: #0000ff\">https://www.askmarvin.ai/getting_started/installation/</span>\n",
       "</pre>\n"
      ],
      "text/plain": [
       "12:28:53.131 | DEBUG   | marvin.HTMLLoader - Loaded document from \u001b[94mhttps://www.askmarvin.ai/getting_started/installation/\u001b[0m\n"
      ]
     },
     "metadata": {},
     "output_type": "display_data"
    },
    {
     "data": {
      "text/html": [
       "<pre style=\"white-space:pre;overflow-x:auto;line-height:normal;font-family:Menlo,'DejaVu Sans Mono',consolas,'Courier New',monospace\"><span style=\"color: #7fbfbf; text-decoration-color: #7fbfbf\">                    </span><span style=\"color: #008000; text-decoration-color: #008000\">DEBUG   </span> marvin.HTMLLoader: saved <span style=\"color: #008080; text-decoration-color: #008080; font-weight: bold\">0</span> documents to topic <span style=\"color: #800080; text-decoration-color: #800080; font-style: italic\">None</span>                          <a href=\"file:///Users/nate/src/open-source/marvin/src/marvin/loaders/base.py\" target=\"_blank\"><span style=\"color: #7f7f7f; text-decoration-color: #7f7f7f\">base.py</span></a><span style=\"color: #7f7f7f; text-decoration-color: #7f7f7f\">:</span><a href=\"file:///Users/nate/src/open-source/marvin/src/marvin/loaders/base.py#40\" target=\"_blank\"><span style=\"color: #7f7f7f; text-decoration-color: #7f7f7f\">40</span></a>\n",
       "</pre>\n"
      ],
      "text/plain": [
       "\u001b[2;36m                   \u001b[0m\u001b[2;36m \u001b[0m\u001b[32mDEBUG   \u001b[0m marvin.HTMLLoader: saved \u001b[1;36m0\u001b[0m documents to topic \u001b[3;35mNone\u001b[0m                          \u001b]8;id=437752;file:///Users/nate/src/open-source/marvin/src/marvin/loaders/base.py\u001b\\\u001b[2mbase.py\u001b[0m\u001b]8;;\u001b\\\u001b[2m:\u001b[0m\u001b]8;id=200313;file:///Users/nate/src/open-source/marvin/src/marvin/loaders/base.py#40\u001b\\\u001b[2m40\u001b[0m\u001b]8;;\u001b\\\n"
      ]
     },
     "metadata": {},
     "output_type": "display_data"
    },
    {
     "data": {
      "text/html": [
       "<pre style=\"white-space:pre;overflow-x:auto;line-height:normal;font-family:Menlo,'DejaVu Sans Mono',consolas,'Courier New',monospace\">12:28:53.739 | DEBUG   | marvin.HTMLLoader - saved 0 documents to topic None\n",
       "</pre>\n"
      ],
      "text/plain": [
       "12:28:53.739 | DEBUG   | marvin.HTMLLoader - saved 0 documents to topic None\n"
      ]
     },
     "metadata": {},
     "output_type": "display_data"
    }
   ],
   "source": [
    "from marvin.loaders.web import HTMLLoader\n",
    "\n",
    "marvin.settings.log_level = 'DEBUG'\n",
    "\n",
    "marvin_doc_homepage = HTMLLoader(urls=[\"https://www.askmarvin.ai/getting_started/installation/\"])\n",
    "\n",
    "await marvin_doc_homepage.load_and_store()"
   ]
  },
  {
   "attachments": {},
   "cell_type": "markdown",
   "metadata": {},
   "source": [
    "... and now to leverage our new knowledge-base we can give our bot a plugin that can query it:"
   ]
  },
  {
   "cell_type": "code",
   "execution_count": 17,
   "metadata": {},
   "outputs": [
    {
     "data": {
      "text/plain": [
       "'Installing the `marvin` package depends on the package manager you are using. If you are using `pip`, you can install it by running the following command in your terminal:\\n\\n```\\npip install marvin\\n```\\n\\nIf you are using `conda`, you can install it by running the following command in your terminal:\\n\\n```\\nconda install -c conda-forge marvin\\n```\\n\\nLet me know if you have any other questions!'"
      ]
     },
     "execution_count": 17,
     "metadata": {},
     "output_type": "execute_result"
    }
   ],
   "source": [
    "from marvin.plugins.chroma import chroma_search\n",
    "\n",
    "marvin_bot.plugins.append(chroma_search)\n",
    "\n",
    "response = await marvin_bot.say(\"how do I install the `marvin` package?\")\n",
    "\n",
    "response.content"
   ]
  }
 ],
 "metadata": {
  "kernelspec": {
   "display_name": "Python 3",
   "language": "python",
   "name": "python3"
  },
  "language_info": {
   "codemirror_mode": {
    "name": "ipython",
    "version": 3
   },
   "file_extension": ".py",
   "mimetype": "text/x-python",
   "name": "python",
   "nbconvert_exporter": "python",
   "pygments_lexer": "ipython3",
   "version": "3.11.0"
  },
  "orig_nbformat": 4
 },
 "nbformat": 4,
 "nbformat_minor": 2
}
